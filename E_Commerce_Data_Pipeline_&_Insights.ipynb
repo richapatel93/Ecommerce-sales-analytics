{
  "nbformat": 4,
  "nbformat_minor": 0,
  "metadata": {
    "colab": {
      "provenance": [],
      "authorship_tag": "ABX9TyMLWETfNxTBXKxS/6CGps5z",
      "include_colab_link": true
    },
    "kernelspec": {
      "name": "python3",
      "display_name": "Python 3"
    },
    "language_info": {
      "name": "python"
    }
  },
  "cells": [
    {
      "cell_type": "markdown",
      "metadata": {
        "id": "view-in-github",
        "colab_type": "text"
      },
      "source": [
        "<a href=\"https://colab.research.google.com/github/richapatel93/Ecommerce-sales-analytics/blob/main/E_Commerce_Data_Pipeline_%26_Insights.ipynb\" target=\"_parent\"><img src=\"https://colab.research.google.com/assets/colab-badge.svg\" alt=\"Open In Colab\"/></a>"
      ]
    },
    {
      "cell_type": "markdown",
      "source": [
        "# Step 1: tool *setup*"
      ],
      "metadata": {
        "id": "7yvBv6HRgRRy"
      }
    },
    {
      "cell_type": "code",
      "source": [
        "!pip install sqlalchemy streamlit\n",
        "import pandas as pd\n",
        "import requests\n",
        "\n",
        "print(\"✅ Setup complete. Pandas + Requests + SQLAlchemy + Streamlit ready!\")\n"
      ],
      "metadata": {
        "colab": {
          "base_uri": "https://localhost:8080/"
        },
        "id": "3D0knbnRXLoY",
        "outputId": "96eb6068-c45c-4273-e68c-d69d6677d8fc"
      },
      "execution_count": null,
      "outputs": [
        {
          "output_type": "stream",
          "name": "stdout",
          "text": [
            "Requirement already satisfied: sqlalchemy in /usr/local/lib/python3.12/dist-packages (2.0.43)\n",
            "Collecting streamlit\n",
            "  Downloading streamlit-1.49.1-py3-none-any.whl.metadata (9.5 kB)\n",
            "Requirement already satisfied: greenlet>=1 in /usr/local/lib/python3.12/dist-packages (from sqlalchemy) (3.2.4)\n",
            "Requirement already satisfied: typing-extensions>=4.6.0 in /usr/local/lib/python3.12/dist-packages (from sqlalchemy) (4.15.0)\n",
            "Requirement already satisfied: altair!=5.4.0,!=5.4.1,<6,>=4.0 in /usr/local/lib/python3.12/dist-packages (from streamlit) (5.5.0)\n",
            "Requirement already satisfied: blinker<2,>=1.5.0 in /usr/local/lib/python3.12/dist-packages (from streamlit) (1.9.0)\n",
            "Requirement already satisfied: cachetools<7,>=4.0 in /usr/local/lib/python3.12/dist-packages (from streamlit) (5.5.2)\n",
            "Requirement already satisfied: click<9,>=7.0 in /usr/local/lib/python3.12/dist-packages (from streamlit) (8.2.1)\n",
            "Requirement already satisfied: numpy<3,>=1.23 in /usr/local/lib/python3.12/dist-packages (from streamlit) (2.0.2)\n",
            "Requirement already satisfied: packaging<26,>=20 in /usr/local/lib/python3.12/dist-packages (from streamlit) (25.0)\n",
            "Requirement already satisfied: pandas<3,>=1.4.0 in /usr/local/lib/python3.12/dist-packages (from streamlit) (2.2.2)\n",
            "Requirement already satisfied: pillow<12,>=7.1.0 in /usr/local/lib/python3.12/dist-packages (from streamlit) (11.3.0)\n",
            "Requirement already satisfied: protobuf<7,>=3.20 in /usr/local/lib/python3.12/dist-packages (from streamlit) (5.29.5)\n",
            "Requirement already satisfied: pyarrow>=7.0 in /usr/local/lib/python3.12/dist-packages (from streamlit) (18.1.0)\n",
            "Requirement already satisfied: requests<3,>=2.27 in /usr/local/lib/python3.12/dist-packages (from streamlit) (2.32.4)\n",
            "Requirement already satisfied: tenacity<10,>=8.1.0 in /usr/local/lib/python3.12/dist-packages (from streamlit) (8.5.0)\n",
            "Requirement already satisfied: toml<2,>=0.10.1 in /usr/local/lib/python3.12/dist-packages (from streamlit) (0.10.2)\n",
            "Requirement already satisfied: watchdog<7,>=2.1.5 in /usr/local/lib/python3.12/dist-packages (from streamlit) (6.0.0)\n",
            "Requirement already satisfied: gitpython!=3.1.19,<4,>=3.0.7 in /usr/local/lib/python3.12/dist-packages (from streamlit) (3.1.45)\n",
            "Collecting pydeck<1,>=0.8.0b4 (from streamlit)\n",
            "  Downloading pydeck-0.9.1-py2.py3-none-any.whl.metadata (4.1 kB)\n",
            "Requirement already satisfied: tornado!=6.5.0,<7,>=6.0.3 in /usr/local/lib/python3.12/dist-packages (from streamlit) (6.4.2)\n",
            "Requirement already satisfied: jinja2 in /usr/local/lib/python3.12/dist-packages (from altair!=5.4.0,!=5.4.1,<6,>=4.0->streamlit) (3.1.6)\n",
            "Requirement already satisfied: jsonschema>=3.0 in /usr/local/lib/python3.12/dist-packages (from altair!=5.4.0,!=5.4.1,<6,>=4.0->streamlit) (4.25.1)\n",
            "Requirement already satisfied: narwhals>=1.14.2 in /usr/local/lib/python3.12/dist-packages (from altair!=5.4.0,!=5.4.1,<6,>=4.0->streamlit) (2.3.0)\n",
            "Requirement already satisfied: gitdb<5,>=4.0.1 in /usr/local/lib/python3.12/dist-packages (from gitpython!=3.1.19,<4,>=3.0.7->streamlit) (4.0.12)\n",
            "Requirement already satisfied: python-dateutil>=2.8.2 in /usr/local/lib/python3.12/dist-packages (from pandas<3,>=1.4.0->streamlit) (2.9.0.post0)\n",
            "Requirement already satisfied: pytz>=2020.1 in /usr/local/lib/python3.12/dist-packages (from pandas<3,>=1.4.0->streamlit) (2025.2)\n",
            "Requirement already satisfied: tzdata>=2022.7 in /usr/local/lib/python3.12/dist-packages (from pandas<3,>=1.4.0->streamlit) (2025.2)\n",
            "Requirement already satisfied: charset_normalizer<4,>=2 in /usr/local/lib/python3.12/dist-packages (from requests<3,>=2.27->streamlit) (3.4.3)\n",
            "Requirement already satisfied: idna<4,>=2.5 in /usr/local/lib/python3.12/dist-packages (from requests<3,>=2.27->streamlit) (3.10)\n",
            "Requirement already satisfied: urllib3<3,>=1.21.1 in /usr/local/lib/python3.12/dist-packages (from requests<3,>=2.27->streamlit) (2.5.0)\n",
            "Requirement already satisfied: certifi>=2017.4.17 in /usr/local/lib/python3.12/dist-packages (from requests<3,>=2.27->streamlit) (2025.8.3)\n",
            "Requirement already satisfied: smmap<6,>=3.0.1 in /usr/local/lib/python3.12/dist-packages (from gitdb<5,>=4.0.1->gitpython!=3.1.19,<4,>=3.0.7->streamlit) (5.0.2)\n",
            "Requirement already satisfied: MarkupSafe>=2.0 in /usr/local/lib/python3.12/dist-packages (from jinja2->altair!=5.4.0,!=5.4.1,<6,>=4.0->streamlit) (3.0.2)\n",
            "Requirement already satisfied: attrs>=22.2.0 in /usr/local/lib/python3.12/dist-packages (from jsonschema>=3.0->altair!=5.4.0,!=5.4.1,<6,>=4.0->streamlit) (25.3.0)\n",
            "Requirement already satisfied: jsonschema-specifications>=2023.03.6 in /usr/local/lib/python3.12/dist-packages (from jsonschema>=3.0->altair!=5.4.0,!=5.4.1,<6,>=4.0->streamlit) (2025.4.1)\n",
            "Requirement already satisfied: referencing>=0.28.4 in /usr/local/lib/python3.12/dist-packages (from jsonschema>=3.0->altair!=5.4.0,!=5.4.1,<6,>=4.0->streamlit) (0.36.2)\n",
            "Requirement already satisfied: rpds-py>=0.7.1 in /usr/local/lib/python3.12/dist-packages (from jsonschema>=3.0->altair!=5.4.0,!=5.4.1,<6,>=4.0->streamlit) (0.27.1)\n",
            "Requirement already satisfied: six>=1.5 in /usr/local/lib/python3.12/dist-packages (from python-dateutil>=2.8.2->pandas<3,>=1.4.0->streamlit) (1.17.0)\n",
            "Downloading streamlit-1.49.1-py3-none-any.whl (10.0 MB)\n",
            "\u001b[2K   \u001b[90m━━━━━━━━━━━━━━━━━━━━━━━━━━━━━━━━━━━━━━━━\u001b[0m \u001b[32m10.0/10.0 MB\u001b[0m \u001b[31m61.3 MB/s\u001b[0m eta \u001b[36m0:00:00\u001b[0m\n",
            "\u001b[?25hDownloading pydeck-0.9.1-py2.py3-none-any.whl (6.9 MB)\n",
            "\u001b[2K   \u001b[90m━━━━━━━━━━━━━━━━━━━━━━━━━━━━━━━━━━━━━━━━\u001b[0m \u001b[32m6.9/6.9 MB\u001b[0m \u001b[31m92.4 MB/s\u001b[0m eta \u001b[36m0:00:00\u001b[0m\n",
            "\u001b[?25hInstalling collected packages: pydeck, streamlit\n",
            "Successfully installed pydeck-0.9.1 streamlit-1.49.1\n",
            "✅ Setup complete. Pandas + Requests + SQLAlchemy + Streamlit ready!\n"
          ]
        }
      ]
    },
    {
      "cell_type": "markdown",
      "source": [
        "# Step 2: Extract Data"
      ],
      "metadata": {
        "id": "bOlEVxsbXdWi"
      }
    },
    {
      "cell_type": "markdown",
      "source": [
        "A) Load data from a CSV (simulate orders dataset)"
      ],
      "metadata": {
        "id": "YRNcChrOX322"
      }
    },
    {
      "cell_type": "code",
      "source": [
        "import pandas as pd\n",
        "\n",
        "# Simulated orders data (like from a CSV file)\n",
        "data = {\n",
        "    \"order_id\": [1, 2, 3, 4, 5],\n",
        "    \"customer_id\": [101, 102, 101, 103, 104],\n",
        "    \"product\": [\"Shirt\", \"Shoes\", \"Shirt\", \"Watch\", \"Shoes\"],\n",
        "    \"quantity\": [2, 1, 3, 1, 2],\n",
        "    \"price\": [500, 1200, 500, 1500, 1200],\n",
        "    \"order_date\": [\"2023-08-01\", \"2023-08-02\", \"2023-08-02\", \"2023-08-03\", \"2023-08-03\"]\n",
        "}\n",
        "\n",
        "df_orders = pd.DataFrame(data)\n",
        "print(\"✅ Orders data extracted from CSV (simulated):\")\n",
        "print(df_orders)\n"
      ],
      "metadata": {
        "colab": {
          "base_uri": "https://localhost:8080/"
        },
        "id": "7SiLzU22X5Qm",
        "outputId": "e14bd641-5fca-4eb7-94e1-6312bc486832"
      },
      "execution_count": null,
      "outputs": [
        {
          "output_type": "stream",
          "name": "stdout",
          "text": [
            "✅ Orders data extracted from CSV (simulated):\n",
            "   order_id  customer_id product  quantity  price  order_date\n",
            "0         1          101   Shirt         2    500  2023-08-01\n",
            "1         2          102   Shoes         1   1200  2023-08-02\n",
            "2         3          101   Shirt         3    500  2023-08-02\n",
            "3         4          103   Watch         1   1500  2023-08-03\n",
            "4         5          104   Shoes         2   1200  2023-08-03\n"
          ]
        }
      ]
    },
    {
      "cell_type": "markdown",
      "source": [
        "B) Extract data from an API (simulate product details)"
      ],
      "metadata": {
        "id": "8KPd_fVLYFo5"
      }
    },
    {
      "cell_type": "code",
      "source": [
        "import requests\n",
        "\n",
        "# Call the FakeStore API for product data\n",
        "url = \"https://fakestoreapi.com/products\"\n",
        "response = requests.get(url)\n",
        "products = response.json()\n",
        "\n",
        "# Show first 2 products\n",
        "print(\"✅ Products data extracted from API (first 2 shown):\")\n",
        "print(products[:2])\n"
      ],
      "metadata": {
        "colab": {
          "base_uri": "https://localhost:8080/"
        },
        "id": "ey_bbMlLYGx8",
        "outputId": "43d50440-dda1-4940-c39a-4c849fae9545"
      },
      "execution_count": null,
      "outputs": [
        {
          "output_type": "stream",
          "name": "stdout",
          "text": [
            "✅ Products data extracted from API (first 2 shown):\n",
            "[{'id': 1, 'title': 'Fjallraven - Foldsack No. 1 Backpack, Fits 15 Laptops', 'price': 109.95, 'description': 'Your perfect pack for everyday use and walks in the forest. Stash your laptop (up to 15 inches) in the padded sleeve, your everyday', 'category': \"men's clothing\", 'image': 'https://fakestoreapi.com/img/81fPKd-2AYL._AC_SL1500_t.png', 'rating': {'rate': 3.9, 'count': 120}}, {'id': 2, 'title': 'Mens Casual Premium Slim Fit T-Shirts ', 'price': 22.3, 'description': 'Slim-fitting style, contrast raglan long sleeve, three-button henley placket, light weight & soft fabric for breathable and comfortable wearing. And Solid stitched shirts with round neck made for durability and a great fit for casual fashion wear and diehard baseball fans. The Henley style round neckline includes a three-button placket.', 'category': \"men's clothing\", 'image': 'https://fakestoreapi.com/img/71-3HjGNDUL._AC_SY879._SX._UX._SY._UY_t.png', 'rating': {'rate': 4.1, 'count': 259}}]\n"
          ]
        }
      ]
    },
    {
      "cell_type": "markdown",
      "source": [
        "#Step 3: Transform Data (Cleaning & Preparing)"
      ],
      "metadata": {
        "id": "O7MOAla1Y9UJ"
      }
    },
    {
      "cell_type": "markdown",
      "source": [
        "A) Clean Orders Data (CSV)"
      ],
      "metadata": {
        "id": "5y1UFQFaZa44"
      }
    },
    {
      "cell_type": "code",
      "source": [
        "# Convert order_date to real datetime (important for grouping later)\n",
        "df_orders['order_date'] = pd.to_datetime(df_orders['order_date'])\n",
        "\n",
        "# Create a new column for revenue\n",
        "df_orders['revenue'] = df_orders['quantity'] * df_orders['price']\n",
        "\n",
        "# Remove rows with missing order_id (simulate cleaning)\n",
        "df_orders = df_orders.dropna(subset=['order_id'])\n",
        "\n",
        "print(\"✅ Cleaned Orders Data:\")\n",
        "print(df_orders)\n"
      ],
      "metadata": {
        "colab": {
          "base_uri": "https://localhost:8080/"
        },
        "id": "bCio2VFoZgpn",
        "outputId": "597abd4e-c26e-468b-ed69-9eb84b43fe02"
      },
      "execution_count": null,
      "outputs": [
        {
          "output_type": "stream",
          "name": "stdout",
          "text": [
            "✅ Cleaned Orders Data:\n",
            "   order_id  customer_id product  quantity  price order_date  revenue\n",
            "0         1          101   Shirt         2    500 2023-08-01     1000\n",
            "1         2          102   Shoes         1   1200 2023-08-02     1200\n",
            "2         3          101   Shirt         3    500 2023-08-02     1500\n",
            "3         4          103   Watch         1   1500 2023-08-03     1500\n",
            "4         5          104   Shoes         2   1200 2023-08-03     2400\n"
          ]
        }
      ]
    },
    {
      "cell_type": "markdown",
      "source": [
        "b) Clean Products Data (API)"
      ],
      "metadata": {
        "id": "XAVibB_4Zsth"
      }
    },
    {
      "cell_type": "code",
      "source": [
        "import pandas as pd\n",
        "\n",
        "# Convert products (list of dicts) into a DataFrame\n",
        "df_products = pd.DataFrame(products)\n",
        "\n",
        "# Keep only useful columns: id, title, price, category, rating\n",
        "df_products = df_products[['id', 'title', 'price', 'category']]\n",
        "\n",
        "# Rename 'id' to 'product_id' (important for joining later)\n",
        "df_products = df_products.rename(columns={'id': 'product_id', 'title': 'product_name'})\n",
        "\n",
        "print(\"✅ Cleaned Products Data (first 5 rows):\")\n",
        "print(df_products.head())\n"
      ],
      "metadata": {
        "colab": {
          "base_uri": "https://localhost:8080/"
        },
        "id": "4AXQshW6Y_Mn",
        "outputId": "1f29e470-4b11-4f20-d0bd-cc8cd81f9965"
      },
      "execution_count": null,
      "outputs": [
        {
          "output_type": "stream",
          "name": "stdout",
          "text": [
            "✅ Cleaned Products Data (first 5 rows):\n",
            "   product_id                                       product_name   price  \\\n",
            "0           1  Fjallraven - Foldsack No. 1 Backpack, Fits 15 ...  109.95   \n",
            "1           2             Mens Casual Premium Slim Fit T-Shirts    22.30   \n",
            "2           3                                 Mens Cotton Jacket   55.99   \n",
            "3           4                               Mens Casual Slim Fit   15.99   \n",
            "4           5  John Hardy Women's Legends Naga Gold & Silver ...  695.00   \n",
            "\n",
            "         category  \n",
            "0  men's clothing  \n",
            "1  men's clothing  \n",
            "2  men's clothing  \n",
            "3  men's clothing  \n",
            "4        jewelery  \n"
          ]
        }
      ]
    },
    {
      "cell_type": "markdown",
      "source": [
        "#Step 4:Load Data into SQLite"
      ],
      "metadata": {
        "id": "3Qgztj07aMdQ"
      }
    },
    {
      "cell_type": "markdown",
      "source": [
        "A) Save to **SQLite**"
      ],
      "metadata": {
        "id": "UKLQhFLqaXYS"
      }
    },
    {
      "cell_type": "code",
      "source": [
        "from sqlalchemy import create_engine\n",
        "\n",
        "# Create SQLite database (warehouse.db will be saved in Colab session)\n",
        "engine = create_engine('sqlite:///warehouse.db', echo=False)\n",
        "\n",
        "# Save both tables\n",
        "df_orders.to_sql('orders', con=engine, if_exists='replace', index=False)\n",
        "df_products.to_sql('products', con=engine, if_exists='replace', index=False)\n",
        "\n",
        "print(\"✅ Data loaded into SQLite database (warehouse.db) with 2 tables: orders, products\")\n"
      ],
      "metadata": {
        "colab": {
          "base_uri": "https://localhost:8080/"
        },
        "id": "PLrZ6KUKaZUv",
        "outputId": "034b4064-35ab-4ab0-fd7c-614940895117"
      },
      "execution_count": null,
      "outputs": [
        {
          "output_type": "stream",
          "name": "stdout",
          "text": [
            "✅ Data loaded into SQLite database (warehouse.db) with 2 tables: orders, products\n"
          ]
        }
      ]
    },
    {
      "cell_type": "markdown",
      "source": [
        "B) Query the Database (test that it worked)"
      ],
      "metadata": {
        "id": "OkdfRivNagg0"
      }
    },
    {
      "cell_type": "code",
      "source": [
        "import pandas as pd\n",
        "\n",
        "# Simple SQL query: select all orders\n",
        "check_orders = pd.read_sql(\"SELECT * FROM orders\", con=engine)\n",
        "check_products = pd.read_sql(\"SELECT * FROM products LIMIT 5\", con=engine)\n",
        "\n",
        "print(\"✅ Orders Table from DB:\")\n",
        "print(check_orders)\n",
        "\n",
        "print(\"\\n✅ Products Table from DB (first 5 rows):\")\n",
        "print(check_products)\n"
      ],
      "metadata": {
        "colab": {
          "base_uri": "https://localhost:8080/"
        },
        "id": "LmUebsGBaNwR",
        "outputId": "cde9265a-40e6-417d-df2a-4e7455008ba2"
      },
      "execution_count": null,
      "outputs": [
        {
          "output_type": "stream",
          "name": "stdout",
          "text": [
            "✅ Orders Table from DB:\n",
            "   order_id  customer_id product  quantity  price                  order_date  \\\n",
            "0         1          101   Shirt         2    500  2023-08-01 00:00:00.000000   \n",
            "1         2          102   Shoes         1   1200  2023-08-02 00:00:00.000000   \n",
            "2         3          101   Shirt         3    500  2023-08-02 00:00:00.000000   \n",
            "3         4          103   Watch         1   1500  2023-08-03 00:00:00.000000   \n",
            "4         5          104   Shoes         2   1200  2023-08-03 00:00:00.000000   \n",
            "\n",
            "   revenue  \n",
            "0     1000  \n",
            "1     1200  \n",
            "2     1500  \n",
            "3     1500  \n",
            "4     2400  \n",
            "\n",
            "✅ Products Table from DB (first 5 rows):\n",
            "   product_id                                       product_name   price  \\\n",
            "0           1  Fjallraven - Foldsack No. 1 Backpack, Fits 15 ...  109.95   \n",
            "1           2             Mens Casual Premium Slim Fit T-Shirts    22.30   \n",
            "2           3                                 Mens Cotton Jacket   55.99   \n",
            "3           4                               Mens Casual Slim Fit   15.99   \n",
            "4           5  John Hardy Women's Legends Naga Gold & Silver ...  695.00   \n",
            "\n",
            "         category  \n",
            "0  men's clothing  \n",
            "1  men's clothing  \n",
            "2  men's clothing  \n",
            "3  men's clothing  \n",
            "4        jewelery  \n"
          ]
        }
      ]
    },
    {
      "cell_type": "markdown",
      "source": [
        "# Step 5: Data Modeling & SQL Queries"
      ],
      "metadata": {
        "id": "h9hlDZOqb-eu"
      }
    },
    {
      "cell_type": "code",
      "source": [
        "import pandas as pd\n",
        "from sqlalchemy import create_engine\n",
        "\n",
        "# Connect to our SQLite database\n",
        "engine = create_engine('sqlite:///warehouse.db', echo=False)\n",
        "\n",
        "# Example Query 1: Top 5 best-selling products\n",
        "query = \"\"\"\n",
        "SELECT product, SUM(quantity) AS total_sold\n",
        "FROM orders\n",
        "GROUP BY product\n",
        "ORDER BY total_sold DESC\n",
        "LIMIT 5;\n",
        "\"\"\"\n",
        "\n",
        "top_products = pd.read_sql(query, engine)\n",
        "print(\"Top 5 Best-Selling Products:\")\n",
        "print(top_products)\n"
      ],
      "metadata": {
        "colab": {
          "base_uri": "https://localhost:8080/"
        },
        "id": "oo5f2ZVXXfPm",
        "outputId": "3e22f0e5-6221-4400-a5cb-7eb25f9a415a"
      },
      "execution_count": null,
      "outputs": [
        {
          "output_type": "stream",
          "name": "stdout",
          "text": [
            "Top 5 Best-Selling Products:\n",
            "  product  total_sold\n",
            "0   Shirt           5\n",
            "1   Shoes           3\n",
            "2   Watch           1\n"
          ]
        }
      ]
    },
    {
      "cell_type": "markdown",
      "source": [
        "# Revenue by Category"
      ],
      "metadata": {
        "id": "OCZsDYxtdLWJ"
      }
    },
    {
      "cell_type": "code",
      "source": [
        "# Reload orders\n",
        "orders_df = pd.read_sql(\"SELECT * FROM orders;\", engine)\n",
        "\n",
        "# Step 1: Create a mapping of product -> category (manually for now)\n",
        "product_category_map = {\n",
        "    \"Shirt\": \"men's clothing\",\n",
        "    \"Shoes\": \"footwear\",\n",
        "    \"Watch\": \"accessories\"\n",
        "}\n",
        "\n",
        "# Step 2: Add a category column to orders\n",
        "orders_df[\"category\"] = orders_df[\"product\"].map(product_category_map)\n",
        "\n",
        "# Step 3: Group by category and sum revenue\n",
        "revenue_by_category = orders_df.groupby(\"category\")[\"revenue\"].sum().reset_index().sort_values(by=\"revenue\", ascending=False)\n",
        "\n",
        "print(\"Revenue by Category:\")\n",
        "print(revenue_by_category)\n"
      ],
      "metadata": {
        "colab": {
          "base_uri": "https://localhost:8080/"
        },
        "id": "0KLVZRykd5Aj",
        "outputId": "19ed820f-1867-48ac-8ba6-f70bc2bfb7c0"
      },
      "execution_count": null,
      "outputs": [
        {
          "output_type": "stream",
          "name": "stdout",
          "text": [
            "Revenue by Category:\n",
            "         category  revenue\n",
            "1        footwear     3600\n",
            "2  men's clothing     2500\n",
            "0     accessories     1500\n"
          ]
        }
      ]
    },
    {
      "cell_type": "markdown",
      "source": [
        "Customer Behavior (Top Spenders)"
      ],
      "metadata": {
        "id": "PzQIZSrBeTZs"
      }
    },
    {
      "cell_type": "code",
      "source": [
        "# Group by customer and calculate total spending\n",
        "customer_spending = orders_df.groupby(\"customer_id\")[\"revenue\"].sum().reset_index().sort_values(by=\"revenue\", ascending=False)\n",
        "\n",
        "print(\"Top Customers by Spending:\")\n",
        "print(customer_spending)\n"
      ],
      "metadata": {
        "colab": {
          "base_uri": "https://localhost:8080/"
        },
        "id": "UAZ1414WeV2Q",
        "outputId": "b72d49d6-6777-4767-ff1f-c35219ecf98c"
      },
      "execution_count": null,
      "outputs": [
        {
          "output_type": "stream",
          "name": "stdout",
          "text": [
            "Top Customers by Spending:\n",
            "   customer_id  revenue\n",
            "0          101     2500\n",
            "3          104     2400\n",
            "2          103     1500\n",
            "1          102     1200\n"
          ]
        }
      ]
    },
    {
      "cell_type": "markdown",
      "source": [
        "# Time Analysis (Daily Sales Trend)"
      ],
      "metadata": {
        "id": "5j7d_Xzre5vD"
      }
    },
    {
      "cell_type": "code",
      "source": [
        "# Group by order_date and calculate total revenue\n",
        "daily_sales = orders_df.groupby(\"order_date\")[\"revenue\"].sum().reset_index().sort_values(by=\"order_date\")\n",
        "\n",
        "print(\"Daily Sales Trend:\")\n",
        "print(daily_sales)\n"
      ],
      "metadata": {
        "colab": {
          "base_uri": "https://localhost:8080/"
        },
        "id": "vGpy5gvqe7sP",
        "outputId": "12e6b4b4-33f0-4f86-f1a7-da9fe1db99d2"
      },
      "execution_count": null,
      "outputs": [
        {
          "output_type": "stream",
          "name": "stdout",
          "text": [
            "Daily Sales Trend:\n",
            "                   order_date  revenue\n",
            "0  2023-08-01 00:00:00.000000     1000\n",
            "1  2023-08-02 00:00:00.000000     2700\n",
            "2  2023-08-03 00:00:00.000000     3900\n"
          ]
        }
      ]
    },
    {
      "cell_type": "markdown",
      "source": [
        "# Step 5:Visualization"
      ],
      "metadata": {
        "id": "Lm_yk4n_hmMi"
      }
    },
    {
      "cell_type": "markdown",
      "source": [
        "###Visualize Top-Selling Products"
      ],
      "metadata": {
        "id": "q0_Xr4kx7Jke"
      }
    },
    {
      "cell_type": "code",
      "source": [
        "import matplotlib.pyplot as plt\n",
        "import seaborn as sns\n",
        "import pandas as pd\n",
        "\n",
        "# Top products from your previous query\n",
        "top_products = pd.DataFrame({\n",
        "    \"product\": [\"Shirt\", \"Shoes\", \"Watch\"],\n",
        "    \"total_sold\": [5, 3, 1]\n",
        "})\n",
        "\n",
        "# Set style\n",
        "sns.set(style=\"whitegrid\")\n",
        "\n",
        "# Plot\n",
        "plt.figure(figsize=(6,4))\n",
        "sns.barplot(data=top_products, x=\"product\", y=\"total_sold\", palette=\"viridis\")\n",
        "plt.title(\"Top-Selling Products\")\n",
        "plt.xlabel(\"Product\")\n",
        "plt.ylabel(\"Quantity Sold\")\n",
        "plt.show()"
      ],
      "metadata": {
        "colab": {
          "base_uri": "https://localhost:8080/",
          "height": 506
        },
        "id": "UM88HEv46L_h",
        "outputId": "42fb4f92-2c55-4de4-b594-d1e435839f78"
      },
      "execution_count": null,
      "outputs": [
        {
          "output_type": "stream",
          "name": "stderr",
          "text": [
            "/tmp/ipython-input-1107023056.py:16: FutureWarning: \n",
            "\n",
            "Passing `palette` without assigning `hue` is deprecated and will be removed in v0.14.0. Assign the `x` variable to `hue` and set `legend=False` for the same effect.\n",
            "\n",
            "  sns.barplot(data=top_products, x=\"product\", y=\"total_sold\", palette=\"viridis\")\n"
          ]
        },
        {
          "output_type": "display_data",
          "data": {
            "text/plain": [
              "<Figure size 600x400 with 1 Axes>"
            ],
            "image/png": "[encoded data removed]"
          },
          "metadata": {}
        }
      ]
    },
    {
      "cell_type": "markdown",
      "source": [
        "Revenue by Category (Pie Chart)"
      ],
      "metadata": {
        "id": "RazOJjDK72VY"
      }
    },
    {
      "cell_type": "code",
      "source": [
        "# Revenue by category from previous step\n",
        "revenue_by_category = pd.DataFrame({\n",
        "    \"category\": [\"footwear\", \"men's clothing\", \"accessories\"],\n",
        "    \"revenue\": [3600, 2500, 1500]\n",
        "})\n",
        "\n",
        "# Pie chart\n",
        "plt.figure(figsize=(6,6))\n",
        "plt.pie(revenue_by_category[\"revenue\"], labels=revenue_by_category[\"category\"], autopct='%1.1f%%', startangle=140, colors=sns.color_palette(\"pastel\"))\n",
        "plt.title(\"Revenue Share by Category\")\n",
        "plt.show()\n"
      ],
      "metadata": {
        "colab": {
          "base_uri": "https://localhost:8080/",
          "height": 521
        },
        "id": "M5gfvETd8PJs",
        "outputId": "0a6cdc83-2e8d-4b4c-b065-4c684caed380"
      },
      "execution_count": null,
      "outputs": [
        {
          "output_type": "display_data",
          "data": {
            "text/plain": [
              "<Figure size 600x600 with 1 Axes>"
            ],
            "image/png": "[encoded data removed]"
          },
          "metadata": {}
        }
      ]
    },
    {
      "cell_type": "markdown",
      "source": [
        "Customer Spending (Horizontal Bar)"
      ],
      "metadata": {
        "id": "9DJyN3Oj8XpT"
      }
    },
    {
      "cell_type": "code",
      "source": [
        "customer_spending = pd.DataFrame({\n",
        "    \"customer_id\": [101, 104, 103, 102],\n",
        "    \"revenue\": [2500, 2400, 1500, 1200]\n",
        "})\n",
        "\n",
        "# Horizontal bar chart\n",
        "plt.figure(figsize=(6,4))\n",
        "sns.barplot(data=customer_spending, y=\"customer_id\", x=\"revenue\", palette=\"magma\")\n",
        "plt.title(\"Top Customers by Spending\")\n",
        "plt.xlabel(\"Revenue\")\n",
        "plt.ylabel(\"Customer ID\")\n",
        "plt.show()\n"
      ],
      "metadata": {
        "colab": {
          "base_uri": "https://localhost:8080/",
          "height": 506
        },
        "id": "N7jiIVJ_8Y7a",
        "outputId": "7ecc73c4-2a74-49a6-e087-626fbe219ff2"
      },
      "execution_count": null,
      "outputs": [
        {
          "output_type": "stream",
          "name": "stderr",
          "text": [
            "/tmp/ipython-input-1090888946.py:8: FutureWarning: \n",
            "\n",
            "Passing `palette` without assigning `hue` is deprecated and will be removed in v0.14.0. Assign the `x` variable to `hue` and set `legend=False` for the same effect.\n",
            "\n",
            "  sns.barplot(data=customer_spending, y=\"customer_id\", x=\"revenue\", palette=\"magma\")\n"
          ]
        },
        {
          "output_type": "display_data",
          "data": {
            "text/plain": [
              "<Figure size 600x400 with 1 Axes>"
            ],
            "image/png": "[encoded data removed]"
          },
          "metadata": {}
        }
      ]
    },
    {
      "cell_type": "markdown",
      "source": [
        "Daily Sales Trend (Line Chart)"
      ],
      "metadata": {
        "id": "BqT6ohBn8haA"
      }
    },
    {
      "cell_type": "code",
      "source": [
        "daily_sales = pd.DataFrame({\n",
        "    \"order_date\": [\"2023-08-01\",\"2023-08-02\",\"2023-08-03\"],\n",
        "    \"revenue\": [1000, 2700, 3900]\n",
        "})\n",
        "\n",
        "plt.figure(figsize=(6,4))\n",
        "sns.lineplot(data=daily_sales, x=\"order_date\", y=\"revenue\", marker=\"o\")\n",
        "plt.title(\"Daily Sales Trend\")\n",
        "plt.xlabel(\"Date\")\n",
        "plt.ylabel(\"Revenue\")\n",
        "plt.show()\n"
      ],
      "metadata": {
        "colab": {
          "base_uri": "https://localhost:8080/",
          "height": 419
        },
        "id": "a_EsAR4g7ffr",
        "outputId": "21025992-234e-42c8-abc7-d9845f5b7d13"
      },
      "execution_count": null,
      "outputs": [
        {
          "output_type": "display_data",
          "data": {
            "text/plain": [
              "<Figure size 600x400 with 1 Axes>"
            ],
            "image/png": "[encoded data removed]"
          },
          "metadata": {}
        }
      ]
    },
    {
      "cell_type": "markdown",
      "source": [
        "# Install Streamlit in Colab"
      ],
      "metadata": {
        "id": "G5HvZnx686HQ"
      }
    },
    {
      "cell_type": "code",
      "source": [
        "!pip install streamlit\n",
        "!pip install pydeck\n"
      ],
      "metadata": {
        "colab": {
          "base_uri": "https://localhost:8080/"
        },
        "id": "BLCRwiBM9EKW",
        "outputId": "8bdd45b4-2343-4965-d97e-1e2b5c2d0342"
      },
      "execution_count": null,
      "outputs": [
        {
          "output_type": "stream",
          "name": "stdout",
          "text": [
            "Collecting streamlit\n",
            "  Downloading streamlit-1.49.1-py3-none-any.whl.metadata (9.5 kB)\n",
            "Requirement already satisfied: altair!=5.4.0,!=5.4.1,<6,>=4.0 in /usr/local/lib/python3.12/dist-packages (from streamlit) (5.5.0)\n",
            "Requirement already satisfied: blinker<2,>=1.5.0 in /usr/local/lib/python3.12/dist-packages (from streamlit) (1.9.0)\n",
            "Requirement already satisfied: cachetools<7,>=4.0 in /usr/local/lib/python3.12/dist-packages (from streamlit) (5.5.2)\n",
            "Requirement already satisfied: click<9,>=7.0 in /usr/local/lib/python3.12/dist-packages (from streamlit) (8.2.1)\n",
            "Requirement already satisfied: numpy<3,>=1.23 in /usr/local/lib/python3.12/dist-packages (from streamlit) (2.0.2)\n",
            "Requirement already satisfied: packaging<26,>=20 in /usr/local/lib/python3.12/dist-packages (from streamlit) (25.0)\n",
            "Requirement already satisfied: pandas<3,>=1.4.0 in /usr/local/lib/python3.12/dist-packages (from streamlit) (2.2.2)\n",
            "Requirement already satisfied: pillow<12,>=7.1.0 in /usr/local/lib/python3.12/dist-packages (from streamlit) (11.3.0)\n",
            "Requirement already satisfied: protobuf<7,>=3.20 in /usr/local/lib/python3.12/dist-packages (from streamlit) (5.29.5)\n",
            "Requirement already satisfied: pyarrow>=7.0 in /usr/local/lib/python3.12/dist-packages (from streamlit) (18.1.0)\n",
            "Requirement already satisfied: requests<3,>=2.27 in /usr/local/lib/python3.12/dist-packages (from streamlit) (2.32.4)\n",
            "Requirement already satisfied: tenacity<10,>=8.1.0 in /usr/local/lib/python3.12/dist-packages (from streamlit) (8.5.0)\n",
            "Requirement already satisfied: toml<2,>=0.10.1 in /usr/local/lib/python3.12/dist-packages (from streamlit) (0.10.2)\n",
            "Requirement already satisfied: typing-extensions<5,>=4.4.0 in /usr/local/lib/python3.12/dist-packages (from streamlit) (4.15.0)\n",
            "Requirement already satisfied: watchdog<7,>=2.1.5 in /usr/local/lib/python3.12/dist-packages (from streamlit) (6.0.0)\n",
            "Requirement already satisfied: gitpython!=3.1.19,<4,>=3.0.7 in /usr/local/lib/python3.12/dist-packages (from streamlit) (3.1.45)\n",
            "Collecting pydeck<1,>=0.8.0b4 (from streamlit)\n",
            "  Downloading pydeck-0.9.1-py2.py3-none-any.whl.metadata (4.1 kB)\n",
            "Requirement already satisfied: tornado!=6.5.0,<7,>=6.0.3 in /usr/local/lib/python3.12/dist-packages (from streamlit) (6.4.2)\n",
            "Requirement already satisfied: jinja2 in /usr/local/lib/python3.12/dist-packages (from altair!=5.4.0,!=5.4.1,<6,>=4.0->streamlit) (3.1.6)\n",
            "Requirement already satisfied: jsonschema>=3.0 in /usr/local/lib/python3.12/dist-packages (from altair!=5.4.0,!=5.4.1,<6,>=4.0->streamlit) (4.25.1)\n",
            "Requirement already satisfied: narwhals>=1.14.2 in /usr/local/lib/python3.12/dist-packages (from altair!=5.4.0,!=5.4.1,<6,>=4.0->streamlit) (2.3.0)\n",
            "Requirement already satisfied: gitdb<5,>=4.0.1 in /usr/local/lib/python3.12/dist-packages (from gitpython!=3.1.19,<4,>=3.0.7->streamlit) (4.0.12)\n",
            "Requirement already satisfied: python-dateutil>=2.8.2 in /usr/local/lib/python3.12/dist-packages (from pandas<3,>=1.4.0->streamlit) (2.9.0.post0)\n",
            "Requirement already satisfied: pytz>=2020.1 in /usr/local/lib/python3.12/dist-packages (from pandas<3,>=1.4.0->streamlit) (2025.2)\n",
            "Requirement already satisfied: tzdata>=2022.7 in /usr/local/lib/python3.12/dist-packages (from pandas<3,>=1.4.0->streamlit) (2025.2)\n",
            "Requirement already satisfied: charset_normalizer<4,>=2 in /usr/local/lib/python3.12/dist-packages (from requests<3,>=2.27->streamlit) (3.4.3)\n",
            "Requirement already satisfied: idna<4,>=2.5 in /usr/local/lib/python3.12/dist-packages (from requests<3,>=2.27->streamlit) (3.10)\n",
            "Requirement already satisfied: urllib3<3,>=1.21.1 in /usr/local/lib/python3.12/dist-packages (from requests<3,>=2.27->streamlit) (2.5.0)\n",
            "Requirement already satisfied: certifi>=2017.4.17 in /usr/local/lib/python3.12/dist-packages (from requests<3,>=2.27->streamlit) (2025.8.3)\n",
            "Requirement already satisfied: smmap<6,>=3.0.1 in /usr/local/lib/python3.12/dist-packages (from gitdb<5,>=4.0.1->gitpython!=3.1.19,<4,>=3.0.7->streamlit) (5.0.2)\n",
            "Requirement already satisfied: MarkupSafe>=2.0 in /usr/local/lib/python3.12/dist-packages (from jinja2->altair!=5.4.0,!=5.4.1,<6,>=4.0->streamlit) (3.0.2)\n",
            "Requirement already satisfied: attrs>=22.2.0 in /usr/local/lib/python3.12/dist-packages (from jsonschema>=3.0->altair!=5.4.0,!=5.4.1,<6,>=4.0->streamlit) (25.3.0)\n",
            "Requirement already satisfied: jsonschema-specifications>=2023.03.6 in /usr/local/lib/python3.12/dist-packages (from jsonschema>=3.0->altair!=5.4.0,!=5.4.1,<6,>=4.0->streamlit) (2025.4.1)\n",
            "Requirement already satisfied: referencing>=0.28.4 in /usr/local/lib/python3.12/dist-packages (from jsonschema>=3.0->altair!=5.4.0,!=5.4.1,<6,>=4.0->streamlit) (0.36.2)\n",
            "Requirement already satisfied: rpds-py>=0.7.1 in /usr/local/lib/python3.12/dist-packages (from jsonschema>=3.0->altair!=5.4.0,!=5.4.1,<6,>=4.0->streamlit) (0.27.1)\n",
            "Requirement already satisfied: six>=1.5 in /usr/local/lib/python3.12/dist-packages (from python-dateutil>=2.8.2->pandas<3,>=1.4.0->streamlit) (1.17.0)\n",
            "Downloading streamlit-1.49.1-py3-none-any.whl (10.0 MB)\n",
            "\u001b[2K   \u001b[90m━━━━━━━━━━━━━━━━━━━━━━━━━━━━━━━━━━━━━━━━\u001b[0m \u001b[32m10.0/10.0 MB\u001b[0m \u001b[31m51.0 MB/s\u001b[0m eta \u001b[36m0:00:00\u001b[0m\n",
            "\u001b[?25hDownloading pydeck-0.9.1-py2.py3-none-any.whl (6.9 MB)\n",
            "\u001b[2K   \u001b[90m━━━━━━━━━━━━━━━━━━━━━━━━━━━━━━━━━━━━━━━━\u001b[0m \u001b[32m6.9/6.9 MB\u001b[0m \u001b[31m103.9 MB/s\u001b[0m eta \u001b[36m0:00:00\u001b[0m\n",
            "\u001b[?25hInstalling collected packages: pydeck, streamlit\n",
            "Successfully installed pydeck-0.9.1 streamlit-1.49.1\n",
            "Requirement already satisfied: pydeck in /usr/local/lib/python3.12/dist-packages (0.9.1)\n",
            "Requirement already satisfied: jinja2>=2.10.1 in /usr/local/lib/python3.12/dist-packages (from pydeck) (3.1.6)\n",
            "Requirement already satisfied: numpy>=1.16.4 in /usr/local/lib/python3.12/dist-packages (from pydeck) (2.0.2)\n",
            "Requirement already satisfied: MarkupSafe>=2.0 in /usr/local/lib/python3.12/dist-packages (from jinja2>=2.10.1->pydeck) (3.0.2)\n"
          ]
        }
      ]
    },
    {
      "cell_type": "code",
      "source": [
        "!streamlit run app.ipyb &\n"
      ],
      "metadata": {
        "colab": {
          "base_uri": "https://localhost:8080/"
        },
        "id": "sfjPxVi4Fjod",
        "outputId": "c67731e9-858f-4527-bf0d-7d34cc693308"
      },
      "execution_count": null,
      "outputs": [
        {
          "output_type": "stream",
          "name": "stdout",
          "text": [
            "Usage: streamlit run [OPTIONS] TARGET [ARGS]...\n",
            "Try 'streamlit run --help' for help.\n",
            "\n",
            "Error: Streamlit requires raw Python (.py) files, not .ipyb.\n",
            "For more information, please see https://docs.streamlit.io\n"
          ]
        }
      ]
    }
  ]
}